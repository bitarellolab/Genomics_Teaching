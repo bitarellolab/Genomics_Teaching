{
    "cells": [
        {
            "cell_type": "markdown",
            "metadata": {},
            "source": [
                "## Table of contents\n",
                "\n",
                "* [You need a terminal](#you-need-a-terminal)\n",
                "* [Check your python version](#check-your-python-version)\n",
                "* [Instal Python 3](#instal-python-3)\n",
                "* [What is Anaconda?](#what-is-anaconda?)\n",
                "* [How do I install anaconda?](#how-do-i-install-anaconda?)\n",
                "* [Test your installation](#test-your-installation)\n",
                "* [Create and manage a conda environment](#create-and-manage-a-conda-environment)\n",
                "\n",
                "## You need a terminal\n",
                "\n",
                "* You can use your own terminal on a Mac or Linux machine OR;\n",
                "\n",
                "* Go to [this page](https://mybinder.org/v2/gh/jupyterlab/jupyterlab-demo/18a9793b58ba86660b5ab964e1aeaf7324d667c8?urlpath=lab%2Ftree%2Fdemo%2FLorenz.ipynb) and access Jupyter Lab directly on your browser. If this seems to have worked, great! Select \"terminal\". This will open a bash terminal.\n",
                "\n",
                "\n",
                "## Check your python version\n",
                "\n",
                "In the command line, type:\n"
            ]
        },
        {
            "cell_type": "code",
            "execution_count": null,
            "metadata": {},
            "outputs": [],
            "source": [
                "python --version\n",
                "#or\n",
                "python -V\n"
            ]
        },
        {
            "cell_type": "markdown",
            "metadata": {},
            "source": [
                "**If you got a version >=3, head over to [What is Anaconda](#what-is-anaconda?).**\n",
                "\n",
                "\n",
                "**This section (next 6 steps) is only needed if you're using your own computer. If you're not, head over to [What is Anaconda](#what-is-anaconda?)**\n",
                "\n",
                "b. If you got a version < 3, run this:\n"
            ]
        },
        {
            "cell_type": "code",
            "execution_count": null,
            "metadata": {},
            "outputs": [],
            "source": [
                "python3 --version\n",
                "#\n"
            ]
        },
        {
            "cell_type": "markdown",
            "metadata": {},
            "source": [
                "b.1. If you get some kind of result telling you which python3 version you have, good! Type this:\n",
                "\n"
            ]
        },
        {
            "cell_type": "code",
            "execution_count": null,
            "metadata": {},
            "outputs": [],
            "source": [
                "open ~/.zshrc  #you can skip this if you are using a web-based command line\n",
                "\n"
            ]
        },
        {
            "cell_type": "markdown",
            "metadata": {},
            "source": [
                "b.2. A file will open. Paste the following into the first line of that file:\n",
                "\n"
            ]
        },
        {
            "cell_type": "code",
            "execution_count": null,
            "metadata": {},
            "outputs": [],
            "source": [
                "alias python=/usr/local/bin/python3 ##you can skip this if you are using a web-based command line\n",
                "\n"
            ]
        },
        {
            "cell_type": "markdown",
            "metadata": {},
            "source": [
                "\n",
                "b.3. Save the file and close it. Then type:\n"
            ]
        },
        {
            "cell_type": "code",
            "execution_count": null,
            "metadata": {},
            "outputs": [],
            "source": [
                "source ~/.zshrc #you can skip this if you are using a web-based command line\n",
                "\n"
            ]
        },
        {
            "cell_type": "markdown",
            "metadata": {},
            "source": [
                "\n",
                "b.4 And finally:\n"
            ]
        },
        {
            "cell_type": "code",
            "execution_count": null,
            "metadata": {},
            "outputs": [],
            "source": [
                "python --version \n",
                "\n"
            ]
        },
        {
            "cell_type": "markdown",
            "metadata": {},
            "source": [
                "Hopefully this now returns a python version >=3!\n",
                "\n",
                "## Instal Python 3\n",
                "\n",
                "If you have no python3 installed, let's install it.\n",
                "\n",
                "**ONLY RUN THIS IF YOU DONT HAVE PYTHON3 INSTALLED**\n",
                "\n",
                "* Go to the Python.org downloads page here and download the latest python installer package.\n",
                "*Run the Python installer package and install Python 3 onto the Mac\n",
                "*Python 3.8.x requires about 100mb of disk space to install. Installation is quick, and you’ll have Python 3.x alongside Python 2.x on the Mac.\n",
                "*Once the installation concludes, go to your terminal and type:\n"
            ]
        },
        {
            "cell_type": "code",
            "execution_count": null,
            "metadata": {},
            "outputs": [],
            "source": [
                "python3 -V\n",
                "\n"
            ]
        },
        {
            "cell_type": "markdown",
            "metadata": {},
            "source": [
                "*Whether you install the updated Python 3 with the package installer or Homebrew, the default version of Python 2.7 that comes preinstalled with Mac OS and Mac OS X will still be installed, completely untouched, and can be run with the simple “python” command as always.\n",
                "*If you want to avoid having to type python3 everytime, follow isntructions b.1-b4 above and then head over to #1!\n",
                "\n",
                "\n",
                "\n",
                "## What is Anaconda?\n",
                "\n",
                "Anaconda.org is a package management service by Anaconda. \n",
                "* Anaconda.org makes it easy to find, access, store and share public notebooks, environments, and conda and PyPI packages. \n",
                "* Anaconda.org also makes it easy to stay current with updates made to the packages and environments you are using. \n",
                "* Anaconda.org hosts hundreds of useful Python packages, notebooks, projects and environments for a wide variety of applications. You do not need to log in, or even to have a Anaconda.org account, to search for public packages, download and install them.\n",
                "\n",
                "\n",
                "**Installing anaconda is only needed if you're using your own computer. If you're not, head over to [Test your installation](#test-your-installation).**\n",
                "\n",
                "## How do I install anaconda?\n",
                "\n",
                "You can follow the wonderful instructions from data camp [here](https://www.datacamp.com/community/tutorials/installing-anaconda-mac-os-x) or simply follow the shorter version below:\n",
                "\n",
                "* Go to the [Anaconda website](https://www.anaconda.com/products/individual#macos) and choose a Python 3.x graphical installer.\n",
                "* Download the \"individual edition\" and follow the instructions as your normally would for a Mac package.\n",
                "* Note that when you install Anaconda, it modifies your bash profile with anaconda3.This can important for later. Click on Continue.\n",
                "* You should get a screen saying the installation has completed. Close the installer and move it to the trash.\n",
                "\n",
                "\n",
                "## Test your installation\n",
                "\n",
                "Go back to the terminal and type\n"
            ]
        },
        {
            "cell_type": "code",
            "execution_count": null,
            "metadata": {},
            "outputs": [],
            "source": [
                "conda -V\n",
                "\n"
            ]
        },
        {
            "cell_type": "markdown",
            "metadata": {},
            "source": [
                " If you get an error, close and reopen the terminal and try again. \n",
                "\n",
                "Update conda just in case:\n"
            ]
        },
        {
            "cell_type": "code",
            "execution_count": null,
            "metadata": {},
            "outputs": [],
            "source": [
                "conda update conda\n",
                "\n"
            ]
        },
        {
            "cell_type": "markdown",
            "metadata": {},
            "source": [
                "If a newer version of conda is available, type y to update:\n",
                "\n"
            ]
        },
        {
            "cell_type": "code",
            "execution_count": null,
            "metadata": {},
            "outputs": [],
            "source": [
                "Proceed ([y]/n)? y\n",
                "\n"
            ]
        },
        {
            "cell_type": "markdown",
            "metadata": {},
            "source": [
                "## Create and manage a conda environment\n",
                "\n",
                "Conda allows you to create separate environments containing files, packages, and their dependencies that will not interact with other environments.\n",
                "\n",
                "When you begin using conda, you already have a default environment named base. You don't want to put programs into your base environment, though. Create separate environments to keep your programs isolated from each other.\n",
                "\n",
                "First, go to the directory you want to work on:\n"
            ]
        },
        {
            "cell_type": "code",
            "execution_count": null,
            "metadata": {},
            "outputs": [],
            "source": [
                "cd ~/Documents/GitHub/Teaching/B216\n",
                "#create environment\n",
                "conda create --name b216\n",
                "#this command creates environment b216 and installs the package biopython\n"
            ]
        },
        {
            "cell_type": "markdown",
            "metadata": {},
            "source": [
                "Next, you are going to activate that environment. This keeps things organized. If you end up having other projects that need different package versions, or even python versions, it will be doable. \n",
                "\n"
            ]
        },
        {
            "cell_type": "code",
            "execution_count": null,
            "metadata": {},
            "outputs": [],
            "source": [
                "conda activate b216\n",
                "#this activate the conda environment b216\n",
                "#don't forget to deactivate it and create a new one for any new major projects!\n",
                "conda deactivate\n"
            ]
        },
        {
            "cell_type": "markdown",
            "metadata": {},
            "source": [
                "\n",
                "The end!\n"
            ]
        }
    ],
    "metadata": {
        "anaconda-cloud": "",
        "kernelspec": {
            "display_name": "R",
            "langauge": "R",
            "name": "ir"
        },
        "language_info": {
            "codemirror_mode": "r",
            "file_extension": ".r",
            "mimetype": "text/x-r-source",
            "name": "R",
            "pygments_lexer": "r",
            "version": "3.4.1"
        }
    },
    "nbformat": 4,
    "nbformat_minor": 1
}
